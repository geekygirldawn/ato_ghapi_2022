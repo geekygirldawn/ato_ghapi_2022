{
 "cells": [
  {
   "cell_type": "markdown",
   "metadata": {},
   "source": [
    "Copyright 2022 VMware, Inc. \n",
    "\n",
    "SPDX-License-Identifier: BSD-2-Clause\n",
    "\n",
    "# Gathering Data about Users (REST API)\n",
    "    \n",
    "Demo: gathering data about users (employer, email, orgs, bio, …) using GitHub account examples from ATO speakers!\n",
    "\n",
    "Learn more, including all of the different fields that you can access for any user:\n",
    "\n",
    "* [PyGithub Named User](https://pygithub.readthedocs.io/en/latest/github_objects/NamedUser.html?highlight=nameduser)\n",
    "* [GitHub API User Docs](https://docs.github.com/en/rest/users/users)"
   ]
  },
  {
   "cell_type": "code",
   "execution_count": 1,
   "metadata": {},
   "outputs": [],
   "source": [
    "# Setup: read personal access token from gh_key and create GitHub Instance\n",
    "# You'll need to do this in each notebook\n",
    "\n",
    "# Import PyGithub library\n",
    "from github import Github\n",
    "\n",
    "# Open your gh_key file and read the personal access token into a variable\n",
    "with open('gh_key', 'r') as kf:\n",
    "    key = kf.readline().rstrip() # remove newline & trailing whitespace\n",
    "\n",
    "# Use your personal access token to create a GitHub instance\n",
    "g = Github(key)"
   ]
  },
  {
   "cell_type": "code",
   "execution_count": 2,
   "metadata": {},
   "outputs": [],
   "source": [
    "# Create GitHub object\n",
    "aj = g.get_user(\"angiejones\")"
   ]
  },
  {
   "cell_type": "code",
   "execution_count": 3,
   "metadata": {},
   "outputs": [
    {
     "name": "stdout",
     "output_type": "stream",
     "text": [
      "Angie Jones\n",
      "techgirl1908\n"
     ]
    }
   ],
   "source": [
    "# Print some basic info about the user\n",
    "print(aj.name)\n",
    "print(aj.twitter_username)"
   ]
  },
  {
   "cell_type": "code",
   "execution_count": 4,
   "metadata": {},
   "outputs": [],
   "source": [
    "# Tab to find additional fields\n"
   ]
  },
  {
   "cell_type": "markdown",
   "metadata": {},
   "source": [
    "## Authenticated User\n",
    "\n",
    "If no username is specified, it defaults to the owner of the personal access token ... aka You!\n",
    "\n",
    "[Learn more](https://pygithub.readthedocs.io/en/latest/github_objects/NamedUser.html?highlight=nameduser) in the PyGithub documentation."
   ]
  },
  {
   "cell_type": "code",
   "execution_count": 5,
   "metadata": {},
   "outputs": [
    {
     "name": "stdout",
     "output_type": "stream",
     "text": [
      "geekygirldawn Dawn Foster Director OSS Community Strategy at VMware, CHAOSS Board / maintainer, OpenUK Board, TODO Group Steering Committee, runner, reader of sci-fi, world traveler.\n"
     ]
    }
   ],
   "source": [
    "# User Object - again any user fields can be accessed.\n",
    "me = g.get_user()\n",
    "print(me.login, me.name, me.bio)"
   ]
  },
  {
   "cell_type": "markdown",
   "metadata": {},
   "source": [
    "## Advanced: Paginated Lists\n",
    "\n",
    "Some API calls return paginated lists. \n",
    "\n",
    "For example:\n",
    "get_followers() Return type: github.PaginatedList.PaginatedList of github.NamedUser.NamedUser\n",
    "\n",
    "The good news is that PyGithub handles the pagination, but to use the output, you need to loop through those results."
   ]
  },
  {
   "cell_type": "code",
   "execution_count": 6,
   "metadata": {},
   "outputs": [
    {
     "name": "stdout",
     "output_type": "stream",
     "text": [
      "<github.PaginatedList.PaginatedList object at 0x1117a45e0>\n"
     ]
    }
   ],
   "source": [
    "vr = g.get_user(\"ValarieR\")\n",
    "\n",
    "# This isn't very useful.\n",
    "print(vr.get_followers())"
   ]
  },
  {
   "cell_type": "code",
   "execution_count": 7,
   "metadata": {},
   "outputs": [
    {
     "name": "stdout",
     "output_type": "stream",
     "text": [
      "CapraRoyale\n",
      "byronic\n",
      "henrywallace\n",
      "jeremymeyers\n",
      "MehulATL\n",
      "rsaez\n",
      "shaheinm\n",
      "scull1916\n",
      "erodriguez87\n",
      "mrbright09\n",
      "scollins33\n",
      "gwyndall\n",
      "mhgerov\n",
      "justincrywolf\n",
      "user35\n",
      "jerielng\n",
      "redricasa\n",
      "Squatch89\n",
      "gtbmed\n",
      "jthomasparker\n",
      "vaniborras\n",
      "autumn2busy\n",
      "courtneyolivia\n",
      "Cdriver556\n",
      "pshegde123\n",
      "Livingnight\n",
      "willnoriah23\n",
      "RachelParris\n",
      "bones2421\n",
      "Acard1990\n",
      "Aarick-F\n",
      "MarieaJohnson\n",
      "joekimga\n",
      "Rogwzrd\n",
      "melheins\n",
      "jwilson99\n",
      "songwright\n",
      "gracepark01\n",
      "twidt\n",
      "Bioinformatics-Surgeon\n",
      "cgarcia101015\n",
      "dleiva345\n",
      "zarahelyse\n",
      "gormenghastly\n",
      "lhuynh1\n",
      "allenjwelch\n",
      "mariamschaudry\n",
      "joshtecx\n",
      "susanldavenport\n",
      "Madinah2491\n",
      "Geoff-Goodwin-Dev\n",
      "KPH3802\n",
      "velasquez189\n",
      "Moca2018\n",
      "dmk6562\n",
      "miklejones\n",
      "orit1989\n",
      "Drewpb333\n",
      "WillCoScofield\n",
      "sarahshelden\n",
      "ElizaRegas\n",
      "houckchris\n",
      "DanielHsieh0618\n",
      "amontalto7\n",
      "ChristoNik\n",
      "alexoeducative\n",
      "markgat\n",
      "saeedaltaf\n",
      "flyboy85749\n",
      "robertzuniga\n",
      "Dorinetk\n",
      "Sean-93\n"
     ]
    }
   ],
   "source": [
    "# Because get_followers() returns a paginated list of type NamedUser, \n",
    "# you can access any user field during the loop.\n",
    "# Note: show a few more options here.\n",
    "\n",
    "for user in vr.get_followers():\n",
    "    print(user.login)"
   ]
  },
  {
   "cell_type": "code",
   "execution_count": 8,
   "metadata": {},
   "outputs": [],
   "source": [
    "sh = g.get_user(\"shanselman\")"
   ]
  },
  {
   "cell_type": "code",
   "execution_count": 9,
   "metadata": {},
   "outputs": [
    {
     "name": "stdout",
     "output_type": "stream",
     "text": [
      "Organization(login=\"Azure-Samples\")\n",
      "Organization(login=\"ligershark\")\n",
      "Organization(login=\"microsoft\")\n",
      "Organization(login=\"OmniSharp\")\n"
     ]
    }
   ],
   "source": [
    "# Another example that gets a list of orgs\n",
    "for org in sh.get_orgs():\n",
    "    print(org)"
   ]
  },
  {
   "cell_type": "markdown",
   "metadata": {},
   "source": [
    "## Bonus Content: GitHub CLI API Calls for Users\n",
    "\n",
    "Reminder: You'll need to [install and configure](https://cli.github.com/manual/) the GitHub CLI before running this."
   ]
  },
  {
   "cell_type": "code",
   "execution_count": null,
   "metadata": {},
   "outputs": [],
   "source": [
    "# ! is used to run a shell / terminal command.\n",
    "# You could easily run this in a terminal, instead of a notebook.\n",
    "!gh api users/justaugustus"
   ]
  },
  {
   "cell_type": "markdown",
   "metadata": {},
   "source": [
    "## Ethical Use Reminder\n",
    "\n",
    "Please adhere to the GitHub Acceptable Use Policies:\n",
    "https://docs.github.com/en/site-policy/acceptable-use-policies/github-acceptable-use-policies"
   ]
  },
  {
   "cell_type": "markdown",
   "metadata": {},
   "source": [
    "## Key Takeaways\n",
    "\n",
    "* Use tab to get a list of available fields for more information.\n",
    "* Any \"User\" (\"NamedUser\") fields are available for any user object regardless of how you access it (user, followers, etc.)\n",
    "* Some API calls return paginated results that must be looped through to access individual elements."
   ]
  }
 ],
 "metadata": {
  "kernelspec": {
   "display_name": "Python 3",
   "language": "python",
   "name": "python3"
  },
  "language_info": {
   "codemirror_mode": {
    "name": "ipython",
    "version": 3
   },
   "file_extension": ".py",
   "mimetype": "text/x-python",
   "name": "python",
   "nbconvert_exporter": "python",
   "pygments_lexer": "ipython3",
   "version": "3.8.5"
  }
 },
 "nbformat": 4,
 "nbformat_minor": 4
}
