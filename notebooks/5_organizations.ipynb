{
 "cells": [
  {
   "cell_type": "markdown",
   "metadata": {},
   "source": [
    "Copyright 2022 VMware, Inc. \n",
    "\n",
    "SPDX-License-Identifier: BSD-2-Clause\n",
    "\n",
    "# Gathering Data about GitHub Organizations (REST API)\n",
    "\n",
    "Demo: getting data about organizations (description, creation date, …)\n",
    "\n",
    "Learn More:\n",
    "\n",
    "* [PyGithub organization documentation](https://pygithub.readthedocs.io/en/latest/github_objects/Organization.html)\n",
    "* [GitHub REST API documentation for orgs](https://docs.github.com/en/rest/orgs/orgs)"
   ]
  },
  {
   "cell_type": "code",
   "execution_count": 12,
   "metadata": {},
   "outputs": [],
   "source": [
    "# Setup: read personal access token from gh_key and create GitHub Instance\n",
    "# You'll need to do this in each notebook\n",
    "\n",
    "# Import PyGithub library\n",
    "from github import Github\n",
    "\n",
    "# Open your gh_key file and read the personal access token into a variable\n",
    "with open('gh_key', 'r') as kf:\n",
    "    key = kf.readline().rstrip() # remove newline & trailing whitespace\n",
    "\n",
    "# Use your personal access token to create a GitHub instance\n",
    "g = Github(key)"
   ]
  },
  {
   "cell_type": "code",
   "execution_count": 13,
   "metadata": {},
   "outputs": [
    {
     "name": "stdout",
     "output_type": "stream",
     "text": [
      "Red Hat\n",
      "The official GitHub account for Red Hat.\n",
      "2017-11-25 02:39:58\n"
     ]
    }
   ],
   "source": [
    "# Get details about an organization\n",
    "rh = g.get_organization(\"RedHatOfficial\")\n",
    "print(rh.name)\n",
    "print(rh.description)\n",
    "print(rh.created_at)"
   ]
  },
  {
   "cell_type": "code",
   "execution_count": 15,
   "metadata": {},
   "outputs": [
    {
     "name": "stdout",
     "output_type": "stream",
     "text": [
      "\n"
     ]
    }
   ],
   "source": [
    "# Show other fields here (blog)\n",
    "print()\n"
   ]
  },
  {
   "cell_type": "markdown",
   "metadata": {},
   "source": [
    "## Get organization members\n",
    "\n",
    "Note: This will only return public organization members unless you have permission to see private members for an organization"
   ]
  },
  {
   "cell_type": "code",
   "execution_count": 16,
   "metadata": {},
   "outputs": [
    {
     "name": "stdout",
     "output_type": "stream",
     "text": [
      "<github.PaginatedList.PaginatedList object at 0x1063107f0>\n"
     ]
    }
   ],
   "source": [
    "# Get the members for the Red Hat org used above\n",
    "rh_members = rh.get_members()\n",
    "\n",
    "# As expected, we can see that this returns a list\n",
    "print(rh_members)"
   ]
  },
  {
   "cell_type": "code",
   "execution_count": 17,
   "metadata": {},
   "outputs": [
    {
     "name": "stdout",
     "output_type": "stream",
     "text": [
      "bproffitt Brian Proffitt 2022-10-11 18:22:05\n",
      "dmc5179 Dan Clark 2022-10-19 09:57:42\n",
      "eschabell Eric D. Schabell 2022-10-14 09:02:07\n",
      "Fryguy Jason Frey 2022-10-24 11:18:37\n",
      "starryeyez024 Kendall Totten 2022-07-13 15:38:07\n",
      "suehle Ruth Suehle 2022-10-11 18:29:50\n"
     ]
    }
   ],
   "source": [
    "# Need to loop through the results\n",
    "# We can access any field for a user object as discussed earlier\n",
    "\n",
    "for person in rh_members:\n",
    "    print(person.login, person.name, person.updated_at)"
   ]
  },
  {
   "cell_type": "markdown",
   "metadata": {},
   "source": [
    "## Get repos from an organization"
   ]
  },
  {
   "cell_type": "code",
   "execution_count": 18,
   "metadata": {},
   "outputs": [
    {
     "name": "stdout",
     "output_type": "stream",
     "text": [
      "LF Public Health\n"
     ]
    }
   ],
   "source": [
    "# Get a GitHub object for the GH org as did above\n",
    "lfph = g.get_organization(\"lfph\")\n",
    "print(lfph.name)\n",
    "\n",
    "# Get the repos for that GH org\n",
    "lfph_repos = lfph.get_repos()"
   ]
  },
  {
   "cell_type": "code",
   "execution_count": 19,
   "metadata": {},
   "outputs": [],
   "source": [
    "# You can also do this in one step\n",
    "lfph_repos = g.get_organization(\"lfph\").get_repos()"
   ]
  },
  {
   "cell_type": "code",
   "execution_count": 20,
   "metadata": {},
   "outputs": [
    {
     "name": "stdout",
     "output_type": "stream",
     "text": [
      "<github.PaginatedList.PaginatedList object at 0x10640bb50>\n"
     ]
    }
   ],
   "source": [
    "# As expected, this is another paginated list object\n",
    "print(lfph_repos)"
   ]
  },
  {
   "cell_type": "code",
   "execution_count": 21,
   "metadata": {},
   "outputs": [
    {
     "name": "stdout",
     "output_type": "stream",
     "text": [
      "lfph-landscape 2022-08-02 22:01:19 2022-10-28 04:53:31\n",
      "artwork 2021-11-15 17:32:18 2021-11-15 17:32:14\n",
      "lfph.io 2022-06-30 03:54:41 2022-10-18 15:26:57\n",
      "sig-contributor-experience 2022-09-07 20:43:36 2021-04-16 18:11:16\n",
      "implementers-forum 2022-10-06 05:16:31 2022-09-30 19:00:12\n",
      "foundation 2022-01-04 17:48:46 2022-09-18 18:20:28\n",
      "sig-design 2022-03-12 18:56:39 2021-09-08 16:27:27\n",
      "events 2021-04-16 18:10:55 2021-04-16 18:10:50\n",
      "tac 2022-09-01 21:53:13 2021-06-15 18:21:18\n",
      "gaen-risk-scoring 2022-06-06 21:31:56 2022-06-07 16:14:10\n",
      "enx-translations 2021-01-14 21:57:18 2022-07-18 20:29:11\n",
      "cci-community 2021-02-25 18:09:12 2021-02-25 18:09:10\n",
      "GCCN-POC 2022-06-17 16:21:42 2022-06-17 16:17:44\n"
     ]
    }
   ],
   "source": [
    "# Need to loop through the results of the list\n",
    "for repo in lfph_repos:\n",
    "    print(repo.name, repo.updated_at, repo.pushed_at)"
   ]
  },
  {
   "cell_type": "markdown",
   "metadata": {},
   "source": [
    "## Brief Caution about date fields in GitHub\n",
    "\n",
    "Sometimes they don't mean what you think they do. \n",
    "\n",
    "Example: updated_at is the last time the object was updated (not the most recent commit / PR):\n",
    "* For users: the last time they updated their profile or other account info.\n",
    "* For repos: you can see that pushed_at and updated_at are often different.\n",
    "\n",
    "I recommend manually verifying that the date is telling you what you think it is."
   ]
  },
  {
   "cell_type": "markdown",
   "metadata": {},
   "source": [
    "## Bonus Content: GitHub CLI API Calls for Organization Data\n",
    "\n",
    "Reminder: You'll need to [install and configure](https://cli.github.com/manual/) the GitHub CLI before running this."
   ]
  },
  {
   "cell_type": "code",
   "execution_count": null,
   "metadata": {},
   "outputs": [],
   "source": [
    "# ! is used to run a shell / terminal command.\n",
    "# You could easily run this in a terminal, instead of a notebook.\n",
    "\n",
    "!gh api orgs/redhatofficial"
   ]
  },
  {
   "cell_type": "code",
   "execution_count": null,
   "metadata": {},
   "outputs": [],
   "source": [
    "!gh api orgs/redhatofficial/members"
   ]
  },
  {
   "cell_type": "markdown",
   "metadata": {},
   "source": [
    "## Ethical Use Reminder\n",
    "\n",
    "Please adhere to the GitHub Acceptable Use Policies:\n",
    "https://docs.github.com/en/site-policy/acceptable-use-policies/github-acceptable-use-policies"
   ]
  },
  {
   "cell_type": "markdown",
   "metadata": {},
   "source": [
    "## Key Takeaways\n",
    "\n",
    "* Be careful about how you use date fields from the GitHub API. They aren't well documented in the GH REST API and should probably be manually verified.\n",
    "* Accessing repositories, users, and other objects from an organization object allows you to access any fields you would normally have access to from that object.\n",
    "* Your personal access token can only access the information that you have access to, so results on things like organizations might differ depending on whether you have special access to an org or only public access. "
   ]
  }
 ],
 "metadata": {
  "kernelspec": {
   "display_name": "Python 3",
   "language": "python",
   "name": "python3"
  },
  "language_info": {
   "codemirror_mode": {
    "name": "ipython",
    "version": 3
   },
   "file_extension": ".py",
   "mimetype": "text/x-python",
   "name": "python",
   "nbconvert_exporter": "python",
   "pygments_lexer": "ipython3",
   "version": "3.8.5"
  }
 },
 "nbformat": 4,
 "nbformat_minor": 4
}
