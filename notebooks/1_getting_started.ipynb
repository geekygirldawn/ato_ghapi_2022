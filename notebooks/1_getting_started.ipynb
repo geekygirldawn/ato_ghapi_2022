{
 "cells": [
  {
   "cell_type": "markdown",
   "metadata": {},
   "source": [
    "Copyright 2022 VMware, Inc. \n",
    "\n",
    "SPDX-License-Identifier: BSD-2-Clause\n",
    "\n",
    "# Getting Started with the GitHub REST API\n",
    "\n",
    "This section should include documentation, authentication, personal access tokens, and ethical use."
   ]
  },
  {
   "cell_type": "markdown",
   "metadata": {},
   "source": [
    "## Definitions\n",
    "\n",
    "* [API](https://en.wikipedia.org/wiki/Web_API): Application Programming Interface\n",
    "* [REST](https://en.wikipedia.org/wiki/Representational_state_transfer): REpresentational State Transfer\n",
    "\n",
    "A REST API (aka RESTful API) follows widely accepted guidelines used by many web APIs as the interface for accessing and changing information using HTTP methods.\n",
    "\n",
    "The GitHub V3 API is a REST API and will be the focus of this presentation, but we will also touch on the GitHub GraphQL API. [Learn more about the difference](https://docs.github.com/en/developers/overview/about-githubs-apis) between these GitHub APIs."
   ]
  },
  {
   "cell_type": "markdown",
   "metadata": {},
   "source": [
    "## Ethical Use\n",
    "\n",
    "Please adhere to the GitHub Acceptable Use Policies:\n",
    "https://docs.github.com/en/site-policy/acceptable-use-policies/github-acceptable-use-policies\n",
    "\n",
    "In particular, \"You may not use information from the Service (whether scraped, collected through our API, or obtained otherwise) for spamming purposes, including for the purposes of sending unsolicited emails to users or selling User Personal Information (as defined in the GitHub Privacy Statement), such as to recruiters, headhunters, and job boards.\""
   ]
  },
  {
   "cell_type": "markdown",
   "metadata": {},
   "source": [
    "## Documentation\n",
    "\n",
    "**[PyGithub](https://pygithub.readthedocs.io/en/latest/introduction.html)**\n",
    "\n",
    "Python library used to easily access the GitHub V3 REST API. This should be your first stop for documentation, since not everything documented in the GitHub API has been implemented in PyGithub\n",
    "\n",
    "```pip install PyGithub```\n",
    "\n",
    "**[GitHub API docs](https://docs.github.com/en/rest)**\n",
    "\n",
    "This contains the complete list of everything accessible within the GitHub REST API."
   ]
  },
  {
   "cell_type": "markdown",
   "metadata": {},
   "source": [
    "## Authentication\n",
    "\n",
    "**Before we can authenticate**\n",
    "\n",
    "* Follow the instructions to create a [GitHub Personal Access Token](https://docs.github.com/en/authentication/keeping-your-account-and-data-secure/creating-a-personal-access-token) using \"repo\" scope.\n",
    "* Save it into a file called 'gh_key' here in this notebooks directory.\n",
    "\n",
    "[Learn more](https://pygithub.readthedocs.io/en/latest/introduction.html) from the PyGithub introduction"
   ]
  },
  {
   "cell_type": "code",
   "execution_count": null,
   "metadata": {},
   "outputs": [],
   "source": [
    "# Setup: read personal access token from gh_key and create GitHub Instance\n",
    "# You'll need to do this in each notebook\n",
    "\n",
    "# Import PyGithub library\n",
    "from github import Github\n",
    "\n",
    "# Open your gh_key file and read the personal access token into a variable\n",
    "with open('gh_key', 'r') as kf:\n",
    "    key = kf.readline().rstrip() # remove newline & trailing whitespace\n",
    "\n",
    "# Use your personal access token to create a GitHub instance\n",
    "g = Github(key)"
   ]
  },
  {
   "cell_type": "markdown",
   "metadata": {},
   "source": [
    "## Bonus Content: GitHub CLI API Calls\n",
    "\n",
    "Throughout the rest of the talk, I'll occassionally also show you how to get similar data from the GitHub CLI.\n",
    "\n",
    "In my personal use:\n",
    "* I use the CLI when I want a quick look at some GH API data.\n",
    "* I use Python when I want to take data from the API and do something with it (analysis, etc.)\n",
    "\n",
    "CAVEAT: You'll need to [install and configure](https://cli.github.com/manual/) the GitHub CLI separately if you want to use these.\n"
   ]
  }
 ],
 "metadata": {
  "kernelspec": {
   "display_name": "Python 3",
   "language": "python",
   "name": "python3"
  },
  "language_info": {
   "codemirror_mode": {
    "name": "ipython",
    "version": 3
   },
   "file_extension": ".py",
   "mimetype": "text/x-python",
   "name": "python",
   "nbconvert_exporter": "python",
   "pygments_lexer": "ipython3",
   "version": "3.8.5"
  }
 },
 "nbformat": 4,
 "nbformat_minor": 4
}
