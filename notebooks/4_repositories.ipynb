{
 "cells": [
  {
   "cell_type": "markdown",
   "metadata": {},
   "source": [
    "Copyright 2022 VMware, Inc. \n",
    "\n",
    "SPDX-License-Identifier: BSD-2-Clause\n",
    "\n",
    "# Gathering Data about Repositories (REST API)\n",
    "\n",
    "Demo: accessing data about repositories (last updated, open issues / PRs, license, …)\n",
    "\n",
    "Learn more:\n",
    "* [PyGithub repository documentation](https://pygithub.readthedocs.io/en/latest/github_objects/Repository.html)\n",
    "* [GitHub REST API Documentation for repos](https://docs.github.com/en/rest/repos/repos)"
   ]
  },
  {
   "cell_type": "code",
   "execution_count": 21,
   "metadata": {},
   "outputs": [],
   "source": [
    "# Setup: read personal access token from gh_key and create GitHub Instance\n",
    "# You'll need to do this in each notebook\n",
    "\n",
    "# Import PyGithub library\n",
    "from github import Github\n",
    "\n",
    "# Open your gh_key file and read the personal access token into a variable\n",
    "with open('gh_key', 'r') as kf:\n",
    "    key = kf.readline().rstrip() # remove newline & trailing whitespace\n",
    "\n",
    "# Use your personal access token to create a GitHub instance\n",
    "g = Github(key)"
   ]
  },
  {
   "cell_type": "code",
   "execution_count": 22,
   "metadata": {},
   "outputs": [
    {
     "name": "stdout",
     "output_type": "stream",
     "text": [
      "scorecard https://securityscorecards.dev 2924\n"
     ]
    }
   ],
   "source": [
    "sc = g.get_repo(\"ossf/scorecard\")\n",
    "print(sc.name, sc.homepage, sc.stargazers_count)"
   ]
  },
  {
   "cell_type": "code",
   "execution_count": 23,
   "metadata": {},
   "outputs": [
    {
     "name": "stdout",
     "output_type": "stream",
     "text": [
      "{'Go': 1163317, 'Makefile': 19663, 'Dockerfile': 8022, 'Shell': 1500, 'JavaScript': 736}\n"
     ]
    }
   ],
   "source": [
    "sc_lang = sc.get_languages()\n",
    "print(sc_lang)"
   ]
  },
  {
   "cell_type": "code",
   "execution_count": 24,
   "metadata": {},
   "outputs": [
    {
     "name": "stdout",
     "output_type": "stream",
     "text": [
      "<class 'dict'>\n"
     ]
    }
   ],
   "source": [
    "# The value shown for each language is the number of bytes of code written in that language.\n",
    "print(type(sc_lang))"
   ]
  },
  {
   "cell_type": "code",
   "execution_count": 25,
   "metadata": {},
   "outputs": [
    {
     "name": "stdout",
     "output_type": "stream",
     "text": [
      "1500\n"
     ]
    }
   ],
   "source": [
    "# Since it returns a Python dictionary, you could also access it by element\n",
    "print(sc_lang['Shell'])"
   ]
  },
  {
   "cell_type": "code",
   "execution_count": 26,
   "metadata": {},
   "outputs": [],
   "source": [
    "# Show other fields here\n",
    "\n"
   ]
  },
  {
   "cell_type": "code",
   "execution_count": 27,
   "metadata": {},
   "outputs": [
    {
     "name": "stdout",
     "output_type": "stream",
     "text": [
      "LICENSE https://api.github.com/repos/ossf/scorecard/contents/LICENSE?ref=main\n"
     ]
    }
   ],
   "source": [
    "sc_lic = sc.get_license()\n",
    "\n",
    "print(sc_lic.name, sc_lic.url)"
   ]
  },
  {
   "cell_type": "code",
   "execution_count": 28,
   "metadata": {},
   "outputs": [],
   "source": [
    "# Other licence fields - content vs. decoded content\n",
    "\n"
   ]
  },
  {
   "cell_type": "markdown",
   "metadata": {},
   "source": [
    "## Repo Contributors\n",
    "\n",
    "Again, like with the other parts of the API, we can access user objects for contributors, committers, and other things that people do with repos. Any user field can be accessed for these users when you iterate through the list."
   ]
  },
  {
   "cell_type": "code",
   "execution_count": 29,
   "metadata": {},
   "outputs": [
    {
     "name": "stdout",
     "output_type": "stream",
     "text": [
      "<github.PaginatedList.PaginatedList object at 0x106d10790>\n"
     ]
    }
   ],
   "source": [
    "pa = g.get_repo(\"ossf/package-analysis\")\n",
    "pa_contrib = pa.get_contributors()\n",
    "print(pa_contrib)"
   ]
  },
  {
   "cell_type": "code",
   "execution_count": 30,
   "metadata": {},
   "outputs": [
    {
     "name": "stdout",
     "output_type": "stream",
     "text": [
      "dependabot[bot] None None\n",
      "calebbrown Caleb Brown None\n",
      "oliverchang Oliver Chang @google \n",
      "dlorenc None None\n",
      "naveensrinivasan Naveen None\n",
      "jordan-wright Jordan Wright None\n",
      "Qinusty Josh None\n",
      "maxfisher-g Max Fisher @google\n",
      "tom--pollard Tom Pollard Codethink\n",
      "david-a-wheeler David A. Wheeler Linux Foundation\n",
      "case Eric Case nb.io\n",
      "another-rex Rex P None\n",
      "steiza Zach Steindler None\n",
      "olivekl None None\n"
     ]
    }
   ],
   "source": [
    "for person in pa_contrib:\n",
    "    print(person.login, person.name, person.company)"
   ]
  },
  {
   "cell_type": "markdown",
   "metadata": {},
   "source": [
    "## PRs and Issues - not the data you might think!\n",
    "\n",
    "The GitHub REST API combines some issues and pull request info into \"issues\"."
   ]
  },
  {
   "cell_type": "code",
   "execution_count": 31,
   "metadata": {},
   "outputs": [
    {
     "name": "stdout",
     "output_type": "stream",
     "text": [
      "256\n"
     ]
    }
   ],
   "source": [
    "# Example: Visit https://github.com/ossf/scorecard and look at open PRs / Issues\n",
    "\n",
    "# This gives us a combined count \n",
    "print(sc.open_issues_count)"
   ]
  },
  {
   "cell_type": "code",
   "execution_count": 32,
   "metadata": {},
   "outputs": [],
   "source": [
    "# You can get the PRs and issues this way\n",
    "prs = sc.get_pulls()\n",
    "issues = sc.get_issues()"
   ]
  },
  {
   "cell_type": "code",
   "execution_count": 33,
   "metadata": {},
   "outputs": [
    {
     "name": "stdout",
     "output_type": "stream",
     "text": [
      "12\n",
      "256\n"
     ]
    }
   ],
   "source": [
    "# And then you can count them, but note that these are only the open counts.\n",
    "# When you use get_pulls() or get_issues(), it defaults to only the open ones.\n",
    "print(prs.totalCount)\n",
    "print(issues.totalCount)"
   ]
  },
  {
   "cell_type": "code",
   "execution_count": 34,
   "metadata": {},
   "outputs": [
    {
     "name": "stdout",
     "output_type": "stream",
     "text": [
      "1632\n"
     ]
    }
   ],
   "source": [
    "# This gives you all of the PRs. You can also have state of \"open\" or \"closed\"\n",
    "prs_all = sc.get_pulls(state=\"all\")\n",
    "print(prs_all.totalCount)"
   ]
  },
  {
   "cell_type": "code",
   "execution_count": 35,
   "metadata": {},
   "outputs": [
    {
     "name": "stdout",
     "output_type": "stream",
     "text": [
      "dependabot[bot] :seedling: Bump ossf/scorecard-action from 2.0.0.pre.alpha.2 to 2.0.4\n",
      "raghavkaul 🌱 Split CI-Tests check into a raw and evaluation section\n",
      "N8BWert :sparkles: Gitlab support (Part 2) - Tests\n",
      "naveensrinivasan :seedling: Format the JSON output\n",
      "ethanent 🐛 Skip in-progress gradle/wrapper-validation-action runs\n",
      "naveensrinivasan :seedling: Fix maintainer activity upto last year\n",
      "shissam :sparkles: Improved Security Policy Check\n",
      "aidenwang9867 ✨ Feature [experimental]: The Scorecard Dependencydiff CLI (Version 0 Part 2)\n",
      "aidenwang9867 ✨ Feature [experimental]: The Scorecard Dependencydiff CLI (Version 0 Part 1)\n",
      "aidenwang9867 :sparkles: Support for C++ fuzz functions in the fuzzing check, add more const LanguageNames for clients\n",
      "naveensrinivasan :sparkles: Validation for command-line flags\n",
      "laurentsimon ✨ Support more SAST tools\n"
     ]
    }
   ],
   "source": [
    "# As with any of the paginated lists, you can loop through to get detailed info\n",
    "for pr in prs:\n",
    "    print(pr.user.login, pr.title)"
   ]
  },
  {
   "cell_type": "markdown",
   "metadata": {},
   "source": [
    "## Bonus Content: GitHub CLI API Calls for Repo Data\n",
    "\n",
    "Reminder: You'll need to [install and configure](https://cli.github.com/manual/) the GitHub CLI before running this."
   ]
  },
  {
   "cell_type": "code",
   "execution_count": null,
   "metadata": {},
   "outputs": [],
   "source": [
    "# ! is used to run a shell / terminal command.\n",
    "# You could easily run this in a terminal, instead of a notebook.\n",
    "\n",
    "!gh api repos/ossf/scorecard"
   ]
  },
  {
   "cell_type": "code",
   "execution_count": null,
   "metadata": {},
   "outputs": [],
   "source": [
    "!gh api repos/ossf/scorecard/languages"
   ]
  },
  {
   "cell_type": "markdown",
   "metadata": {},
   "source": [
    "## Ethical Use Reminder\n",
    "\n",
    "Please adhere to the GitHub Acceptable Use Policies:\n",
    "https://docs.github.com/en/site-policy/acceptable-use-policies/github-acceptable-use-policies"
   ]
  },
  {
   "cell_type": "markdown",
   "metadata": {},
   "source": [
    "## Key Takeaways\n",
    "\n",
    "* Be careful about how you interpret PR / Issue data from repositories - it may not mean what you think it does!\n",
    "* Encourage to validate what you think you're getting using the website.\n",
    "* There is so much info that you can get about repositories from the API. I encourage you to explore what else is available."
   ]
  }
 ],
 "metadata": {
  "kernelspec": {
   "display_name": "Python 3",
   "language": "python",
   "name": "python3"
  },
  "language_info": {
   "codemirror_mode": {
    "name": "ipython",
    "version": 3
   },
   "file_extension": ".py",
   "mimetype": "text/x-python",
   "name": "python",
   "nbconvert_exporter": "python",
   "pygments_lexer": "ipython3",
   "version": "3.8.5"
  }
 },
 "nbformat": 4,
 "nbformat_minor": 4
}
