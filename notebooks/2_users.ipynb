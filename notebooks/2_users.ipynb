{
 "cells": [
  {
   "cell_type": "markdown",
   "metadata": {},
   "source": [
    "Copyright 2022 VMware, Inc. \n",
    "\n",
    "SPDX-License-Identifier: BSD-2-Clause\n",
    "\n",
    "# Gathering Data about Users (REST API)\n",
    "    \n",
    "Demo: gathering data about users (employer, email, orgs, bio, …) using GitHub account examples from ATO speakers!\n",
    "\n",
    "Learn more, including all of the different fields that you can access for any user:\n",
    "\n",
    "* [PyGithub Named User](https://pygithub.readthedocs.io/en/latest/github_objects/NamedUser.html?highlight=nameduser)\n",
    "* [GitHub API User Docs](https://docs.github.com/en/rest/users/users)"
   ]
  },
  {
   "cell_type": "code",
   "execution_count": 11,
   "metadata": {},
   "outputs": [],
   "source": [
    "# Setup: read personal access token from gh_key and create GitHub Instance\n",
    "# You'll need to do this in each notebook\n",
    "\n",
    "# Import PyGithub library\n",
    "from github import Github\n",
    "\n",
    "# Open your gh_key file and read the personal access token into a variable\n",
    "with open('gh_key', 'r') as kf:\n",
    "    key = kf.readline().rstrip() # remove newline & trailing whitespace\n",
    "\n",
    "# Use your personal access token to create a GitHub instance\n",
    "g = Github(key)"
   ]
  },
  {
   "cell_type": "code",
   "execution_count": 12,
   "metadata": {},
   "outputs": [],
   "source": [
    "# Create GitHub object\n",
    "aj = g.get_user(\"angiejones\")"
   ]
  },
  {
   "cell_type": "code",
   "execution_count": 13,
   "metadata": {},
   "outputs": [
    {
     "name": "stdout",
     "output_type": "stream",
     "text": [
      "Angie Jones\n",
      "techgirl1908\n"
     ]
    }
   ],
   "source": [
    "# Print some basic info about the user\n",
    "print(aj.name)\n",
    "print(aj.twitter_username)"
   ]
  },
  {
   "cell_type": "code",
   "execution_count": 14,
   "metadata": {},
   "outputs": [
    {
     "name": "stdout",
     "output_type": "stream",
     "text": [
      "\n"
     ]
    }
   ],
   "source": [
    "# Tab to find additional fields\n",
    "print()"
   ]
  },
  {
   "cell_type": "markdown",
   "metadata": {},
   "source": [
    "## Authenticated User\n",
    "\n",
    "If no username is specified, it defaults to the owner of the personal access token ... aka You!\n",
    "\n",
    "[Learn more](https://pygithub.readthedocs.io/en/latest/github_objects/NamedUser.html?highlight=nameduser) in the PyGithub documentation."
   ]
  },
  {
   "cell_type": "code",
   "execution_count": 15,
   "metadata": {},
   "outputs": [
    {
     "name": "stdout",
     "output_type": "stream",
     "text": [
      "geekygirldawn Dawn Foster Director OSS Community Strategy at VMware, CHAOSS Board / maintainer, OpenUK Board, TODO Group Steering Committee, runner, reader of sci-fi, world traveler.\n"
     ]
    }
   ],
   "source": [
    "# User Object - again any user fields can be accessed.\n",
    "me = g.get_user()\n",
    "print(me.login, me.name, me.bio)"
   ]
  },
  {
   "cell_type": "markdown",
   "metadata": {},
   "source": [
    "## Advanced: Paginated Lists\n",
    "\n",
    "Some API calls return paginated lists. \n",
    "\n",
    "For example:\n",
    "get_followers() Return type: github.PaginatedList.PaginatedList of github.NamedUser.NamedUser\n",
    "\n",
    "The good news is that PyGithub handles the pagination, but to use the output, you need to loop through those results."
   ]
  },
  {
   "cell_type": "code",
   "execution_count": 16,
   "metadata": {},
   "outputs": [
    {
     "name": "stdout",
     "output_type": "stream",
     "text": [
      "<github.PaginatedList.PaginatedList object at 0x111b6cb20>\n"
     ]
    }
   ],
   "source": [
    "vr = g.get_user(\"ValarieR\")\n",
    "\n",
    "vr_followers = vr.get_followers()\n",
    "\n",
    "# This isn't very useful.\n",
    "print(vr_followers)"
   ]
  },
  {
   "cell_type": "code",
   "execution_count": 17,
   "metadata": {},
   "outputs": [
    {
     "name": "stdout",
     "output_type": "stream",
     "text": [
      "CapraRoyale Siege\n",
      "byronic Byron Lagrone\n",
      "henrywallace Henry Wallace\n",
      "jeremymeyers Jeremy Meyers\n",
      "MehulATL Mehul Patel\n",
      "rsaez Rodolfo D Saez\n",
      "shaheinm Shahein Moussavi\n",
      "scull1916 Kevin Scully\n",
      "erodriguez87 Eddie Rodriguez\n",
      "mrbright09 Mikal Bright\n",
      "scollins33 Sean Collins\n",
      "gwyndall Carolyn Wheat\n",
      "mhgerov Michael Gerov\n",
      "justincrywolf Justin\n",
      "user35 None\n",
      "jerielng Jeriel Ng\n",
      "redricasa rederi\n",
      "Squatch89 Gene WIlliams\n",
      "gtbmed John Barson\n",
      "jthomasparker Josh Parker\n",
      "vaniborras None\n",
      "autumn2busy SonataStark\n",
      "courtneyolivia Courtney Olivia\n",
      "Cdriver556 Charles\n",
      "pshegde123 Pradnya Hegde\n",
      "Livingnight James Jernigan\n",
      "willnoriah23 None\n",
      "RachelParris Rachel\n",
      "bones2421 Ben Williams\n",
      "Acard1990 Scott Cardinali\n",
      "Aarick-F Aarick Farist\n",
      "MarieaJohnson Mariea Johnson\n",
      "joekimga Joe Kim\n",
      "Rogwzrd Michael Daye\n",
      "melheins Melanie Heins\n",
      "jwilson99 Julie Wilson\n",
      "songwright Ramon Sanchez\n",
      "gracepark01 None\n",
      "twidt None\n",
      "Bioinformatics-Surgeon Spike Spiegel\n",
      "cgarcia101015 Carlos M Garcia\n",
      "dleiva345 Debbie Leiva\n",
      "zarahelyse None\n",
      "gormenghastly John Waymire\n",
      "lhuynh1 Lisa Huynh\n",
      "allenjwelch Allen Welch\n",
      "mariamschaudry Mariam S. Chaudry\n",
      "joshtecx Josh Tec\n",
      "susanldavenport Susan Davenport\n",
      "Madinah2491 None\n",
      "Geoff-Goodwin-Dev Geoff Goodwin\n",
      "KPH3802 Kevin Heaney\n",
      "velasquez189 Andrea V.\n",
      "Moca2018 Nelson Quinones\n",
      "dmk6562 Catherine Muthoni\n",
      "miklejones miklejones\n",
      "orit1989 None\n",
      "Drewpb333 Andrew Boe\n",
      "WillCoScofield Connor Scofield\n",
      "sarahshelden Sarah Shelden\n",
      "ElizaRegas Elizabeth Regas\n",
      "houckchris Chris Houck\n",
      "DanielHsieh0618 Daniel Hsieh\n",
      "amontalto7 Anthony Montalto\n",
      "ChristoNik None\n",
      "alexoeducative Alex Ortiz\n",
      "markgat Mark Gatongay\n",
      "saeedaltaf Saeed Altaf\n",
      "flyboy85749 William Hall\n",
      "robertzuniga Robert Zuniga\n",
      "Dorinetk None\n",
      "Sean-93 Sean Rooney\n"
     ]
    }
   ],
   "source": [
    "# Because get_followers() returns a paginated list of type NamedUser, \n",
    "# you can access any user field during the loop.\n",
    "# Note: show a few more options here.\n",
    "\n",
    "for user in vr_followers:\n",
    "    print(user.login, user.name)"
   ]
  },
  {
   "cell_type": "code",
   "execution_count": 18,
   "metadata": {},
   "outputs": [
    {
     "name": "stdout",
     "output_type": "stream",
     "text": [
      "<github.PaginatedList.PaginatedList object at 0x111b843d0>\n"
     ]
    }
   ],
   "source": [
    "sh = g.get_user(\"shanselman\")\n",
    "sh_orgs = sh.get_orgs()\n",
    "print(sh_orgs)"
   ]
  },
  {
   "cell_type": "code",
   "execution_count": 19,
   "metadata": {},
   "outputs": [
    {
     "name": "stdout",
     "output_type": "stream",
     "text": [
      "Azure-Samples Azure Samples\n",
      "ligershark LigerShark\n",
      "microsoft Microsoft\n",
      "OmniSharp OmniSharp\n"
     ]
    }
   ],
   "source": [
    "# Another example that gets a list of orgs\n",
    "for org in sh_orgs:\n",
    "    print(org.login, org.name)"
   ]
  },
  {
   "cell_type": "markdown",
   "metadata": {},
   "source": [
    "## Bonus Content: GitHub CLI API Calls for Users\n",
    "\n",
    "Reminder: You'll need to [install and configure](https://cli.github.com/manual/) the GitHub CLI before running this."
   ]
  },
  {
   "cell_type": "code",
   "execution_count": null,
   "metadata": {},
   "outputs": [],
   "source": [
    "# ! is used to run a shell / terminal command.\n",
    "# You could easily run this in a terminal, instead of a notebook.\n",
    "!gh api users/justaugustus"
   ]
  },
  {
   "cell_type": "markdown",
   "metadata": {},
   "source": [
    "## Ethical Use Reminder\n",
    "\n",
    "Please adhere to the GitHub Acceptable Use Policies:\n",
    "https://docs.github.com/en/site-policy/acceptable-use-policies/github-acceptable-use-policies"
   ]
  },
  {
   "cell_type": "markdown",
   "metadata": {},
   "source": [
    "## Key Takeaways\n",
    "\n",
    "* Use tab to get a list of available fields for more information.\n",
    "* Any \"User\" (\"NamedUser\") fields are available for any user object regardless of how you access it (user, followers, etc.)\n",
    "* Some API calls return paginated results that must be looped through to access individual elements."
   ]
  }
 ],
 "metadata": {
  "kernelspec": {
   "display_name": "Python 3",
   "language": "python",
   "name": "python3"
  },
  "language_info": {
   "codemirror_mode": {
    "name": "ipython",
    "version": 3
   },
   "file_extension": ".py",
   "mimetype": "text/x-python",
   "name": "python",
   "nbconvert_exporter": "python",
   "pygments_lexer": "ipython3",
   "version": "3.8.5"
  }
 },
 "nbformat": 4,
 "nbformat_minor": 4
}
