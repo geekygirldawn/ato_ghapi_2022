{
 "cells": [
  {
   "cell_type": "markdown",
   "metadata": {},
   "source": [
    "Copyright 2022 VMware, Inc. \n",
    "\n",
    "SPDX-License-Identifier: BSD-2-Clause\n",
    "\n",
    "# Gathering Data about Repositories (REST API)\n",
    "\n",
    "Demo: accessing data about repositories (last updated, open issues / PRs, license, …)\n",
    "\n",
    "Learn more:\n",
    "* [PyGithub repository documentation](https://pygithub.readthedocs.io/en/latest/github_objects/Repository.html)\n",
    "* [GitHub REST API Documentation for repos](https://docs.github.com/en/rest/repos/repos)"
   ]
  },
  {
   "cell_type": "code",
   "execution_count": null,
   "metadata": {},
   "outputs": [],
   "source": [
    "# Setup: read personal access token from gh_key and create GitHub Instance\n",
    "# You'll need to do this in each notebook\n",
    "\n",
    "# Import PyGithub library\n",
    "from github import Github\n",
    "\n",
    "# Open your gh_key file and read the personal access token into a variable\n",
    "with open('gh_key', 'r') as kf:\n",
    "    key = kf.readline().rstrip() # remove newline & trailing whitespace\n",
    "\n",
    "# Use your personal access token to create a GitHub instance\n",
    "g = Github(key)"
   ]
  },
  {
   "cell_type": "code",
   "execution_count": null,
   "metadata": {},
   "outputs": [],
   "source": [
    "sc = g.get_repo(\"ossf/scorecard\")\n",
    "print(sc.name, sc.homepage, sc.stargazers_count)"
   ]
  },
  {
   "cell_type": "code",
   "execution_count": null,
   "metadata": {},
   "outputs": [],
   "source": [
    "# Show other fields here\n",
    "\n"
   ]
  },
  {
   "cell_type": "code",
   "execution_count": null,
   "metadata": {},
   "outputs": [],
   "source": [
    "sc_lic = sc.get_license()\n",
    "\n",
    "print(sc_lic.name, sc_lic.url)"
   ]
  },
  {
   "cell_type": "code",
   "execution_count": null,
   "metadata": {},
   "outputs": [],
   "source": [
    "# Other licence fields - content vs. decoded content\n",
    "\n"
   ]
  },
  {
   "cell_type": "markdown",
   "metadata": {},
   "source": [
    "## Repo Contributors\n",
    "\n",
    "Again, like with the other parts of the API, we can access user objects for contributors, committers, and other things that people do with repos. Any user field can be accessed for these users when you iterate through the list."
   ]
  },
  {
   "cell_type": "code",
   "execution_count": null,
   "metadata": {},
   "outputs": [],
   "source": [
    "pa = g.get_repo(\"ossf/package-analysis\")\n",
    "pa_contrib = pa.get_contributors()"
   ]
  },
  {
   "cell_type": "code",
   "execution_count": null,
   "metadata": {},
   "outputs": [],
   "source": [
    "for person in pa_contrib:\n",
    "    print(person.login, person.name, person.company)"
   ]
  },
  {
   "cell_type": "markdown",
   "metadata": {},
   "source": [
    "## PRs and Issues - not the data you might think!\n",
    "\n",
    "The GitHub REST API combines some issues and pull request info into \"issues\"."
   ]
  },
  {
   "cell_type": "code",
   "execution_count": null,
   "metadata": {},
   "outputs": [],
   "source": [
    "# Example: Visit https://github.com/ossf/scorecard and look at open PRs / Issues\n",
    "\n",
    "# This gives us a combined count \n",
    "print(sc.open_issues_count)"
   ]
  },
  {
   "cell_type": "code",
   "execution_count": null,
   "metadata": {},
   "outputs": [],
   "source": [
    "# You can get the PRs and issues this way\n",
    "prs = sc.get_pulls()\n",
    "issues = sc.get_issues()"
   ]
  },
  {
   "cell_type": "code",
   "execution_count": null,
   "metadata": {},
   "outputs": [],
   "source": [
    "# And then you can count them, but note that these are only the open counts.\n",
    "# When you use get_pulls() or get_issues(), it defaults to only the open ones.\n",
    "print(prs.totalCount)\n",
    "print(issues.totalCount)"
   ]
  },
  {
   "cell_type": "code",
   "execution_count": null,
   "metadata": {},
   "outputs": [],
   "source": [
    "# This gives you all of the PRs. You can also have state of \"open\" or \"closed\"\n",
    "prs_all = sc.get_pulls(state=\"all\")\n",
    "print(prs_all.totalCount)"
   ]
  },
  {
   "cell_type": "code",
   "execution_count": null,
   "metadata": {},
   "outputs": [],
   "source": [
    "# As with any of the paginated lists, you can loop through to get detailed info\n",
    "for pr in prs:\n",
    "    print(pr.user.login, pr.title)"
   ]
  },
  {
   "cell_type": "markdown",
   "metadata": {},
   "source": [
    "## Ethical Use Reminder\n",
    "\n",
    "Please adhere to the GitHub Acceptable Use Policies:\n",
    "https://docs.github.com/en/site-policy/acceptable-use-policies/github-acceptable-use-policies"
   ]
  },
  {
   "cell_type": "code",
   "execution_count": null,
   "metadata": {},
   "outputs": [],
   "source": []
  }
 ],
 "metadata": {
  "kernelspec": {
   "display_name": "Python 3",
   "language": "python",
   "name": "python3"
  },
  "language_info": {
   "codemirror_mode": {
    "name": "ipython",
    "version": 3
   },
   "file_extension": ".py",
   "mimetype": "text/x-python",
   "name": "python",
   "nbconvert_exporter": "python",
   "pygments_lexer": "ipython3",
   "version": "3.8.5"
  }
 },
 "nbformat": 4,
 "nbformat_minor": 4
}
