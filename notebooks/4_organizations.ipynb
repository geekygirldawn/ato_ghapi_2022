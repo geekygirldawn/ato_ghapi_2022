{
 "cells": [
  {
   "cell_type": "markdown",
   "metadata": {},
   "source": [
    "Copyright 2022 VMware, Inc. \n",
    "\n",
    "SPDX-License-Identifier: BSD-2-Clause\n",
    "\n",
    "# Gathering Data about GitHub Organizations (REST API)\n",
    "\n",
    "Demo: getting data about organizations (description, creation date, …)\n",
    "\n",
    "Learn More:\n",
    "\n",
    "* [PyGithub organization documentation](https://pygithub.readthedocs.io/en/latest/github_objects/Organization.html)\n",
    "* [GitHub REST API documentation for orgs](https://docs.github.com/en/rest/orgs/orgs)"
   ]
  },
  {
   "cell_type": "code",
   "execution_count": null,
   "metadata": {},
   "outputs": [],
   "source": [
    "# Setup: read personal access token from gh_key and create GitHub Instance\n",
    "# You'll need to do this in each notebook\n",
    "\n",
    "# Import PyGithub library\n",
    "from github import Github\n",
    "\n",
    "# Open your gh_key file and read the personal access token into a variable\n",
    "with open('gh_key', 'r') as kf:\n",
    "    key = kf.readline().rstrip() # remove newline & trailing whitespace\n",
    "\n",
    "# Use your personal access token to create a GitHub instance\n",
    "g = Github(key)"
   ]
  },
  {
   "cell_type": "code",
   "execution_count": null,
   "metadata": {},
   "outputs": [],
   "source": [
    "# Get details about an organization\n",
    "rh = g.get_organization(\"RedHatOfficial\")\n",
    "print(rh.name)\n",
    "print(rh.description)\n",
    "print(rh.created_at)"
   ]
  },
  {
   "cell_type": "code",
   "execution_count": null,
   "metadata": {},
   "outputs": [],
   "source": [
    "# Show other fields here (blog)\n",
    "\n"
   ]
  },
  {
   "cell_type": "markdown",
   "metadata": {},
   "source": [
    "## Get organization members\n",
    "\n",
    "Note: This will only return public organization members unless you have permission to see private members for an organization"
   ]
  },
  {
   "cell_type": "code",
   "execution_count": null,
   "metadata": {},
   "outputs": [],
   "source": [
    "# Get the members for the Red Hat org used above\n",
    "rh_members = rh.get_members()\n",
    "\n",
    "# As expected, we can see that this returns a list\n",
    "print(rh_members)"
   ]
  },
  {
   "cell_type": "code",
   "execution_count": null,
   "metadata": {},
   "outputs": [],
   "source": [
    "# Need to loop through the results\n",
    "# We can access any field for a user object as discussed earlier\n",
    "\n",
    "for person in rh_members:\n",
    "    print(person.login, person.name, person.updated_at)"
   ]
  },
  {
   "cell_type": "markdown",
   "metadata": {},
   "source": [
    "## Get repos from an organization"
   ]
  },
  {
   "cell_type": "code",
   "execution_count": null,
   "metadata": {},
   "outputs": [],
   "source": [
    "# Get a GitHub object for the GH org as did above\n",
    "lfph = g.get_organization(\"lfph\")\n",
    "print(lfph.name)\n",
    "\n",
    "# Get the repos for that GH org\n",
    "lfph_repos = lfph.get_repos()"
   ]
  },
  {
   "cell_type": "code",
   "execution_count": null,
   "metadata": {},
   "outputs": [],
   "source": [
    "# You can also do this in one step\n",
    "lfph_repos = g.get_organization(\"lfph\").get_repos()"
   ]
  },
  {
   "cell_type": "code",
   "execution_count": null,
   "metadata": {},
   "outputs": [],
   "source": [
    "# As expected, this is another paginated list object\n",
    "print(lfph_repos)"
   ]
  },
  {
   "cell_type": "code",
   "execution_count": null,
   "metadata": {},
   "outputs": [],
   "source": [
    "# Need to loop through the results of the list\n",
    "for repo in lfph_repos:\n",
    "    print(repo.name, repo.updated_at, repo.pushed_at)"
   ]
  },
  {
   "cell_type": "markdown",
   "metadata": {},
   "source": [
    "## Brief Caution about date fields in GitHub\n",
    "\n",
    "Sometimes they don't mean what you think they do. \n",
    "\n",
    "Example: updated_at is the last time the object was updated (not the most recent commit / PR):\n",
    "* For users: the last time they updated their profile or other account info.\n",
    "* For repos: you can see that pushed_at and updated_at are often different.\n",
    "\n",
    "I recommend manually verifying that the date is telling you what you think it is."
   ]
  },
  {
   "cell_type": "markdown",
   "metadata": {},
   "source": [
    "## Bonus Content: GitHub CLI API Calls for Organization Data\n",
    "\n",
    "Reminder: You'll need to [install and configure](https://cli.github.com/manual/) the GitHub CLI before running this."
   ]
  },
  {
   "cell_type": "code",
   "execution_count": null,
   "metadata": {},
   "outputs": [],
   "source": [
    "# ! is used to run a shell / terminal command.\n",
    "# You could easily run this in a terminal, instead of a notebook.\n",
    "\n",
    "!gh api orgs/redhatofficial"
   ]
  },
  {
   "cell_type": "code",
   "execution_count": null,
   "metadata": {},
   "outputs": [],
   "source": [
    "!gh api orgs/redhatofficial/members"
   ]
  },
  {
   "cell_type": "markdown",
   "metadata": {},
   "source": [
    "## Ethical Use Reminder\n",
    "\n",
    "Please adhere to the GitHub Acceptable Use Policies:\n",
    "https://docs.github.com/en/site-policy/acceptable-use-policies/github-acceptable-use-policies"
   ]
  },
  {
   "cell_type": "markdown",
   "metadata": {},
   "source": [
    "## Key Takeaways\n",
    "\n",
    "* Be careful about how you use date fields from the GitHub API. They aren't well documented in the GH REST API and should probably be manually verified.\n",
    "* Accessing repositories, users, and other objects from an organization object allows you to access any fields you would normally have access to from that object.\n",
    "* Your personal access token can only access the information that you have access to, so results on things like organizations might differ depending on whether you have special access to an org or only public access. "
   ]
  }
 ],
 "metadata": {
  "kernelspec": {
   "display_name": "Python 3",
   "language": "python",
   "name": "python3"
  },
  "language_info": {
   "codemirror_mode": {
    "name": "ipython",
    "version": 3
   },
   "file_extension": ".py",
   "mimetype": "text/x-python",
   "name": "python",
   "nbconvert_exporter": "python",
   "pygments_lexer": "ipython3",
   "version": "3.8.5"
  }
 },
 "nbformat": 4,
 "nbformat_minor": 4
}
