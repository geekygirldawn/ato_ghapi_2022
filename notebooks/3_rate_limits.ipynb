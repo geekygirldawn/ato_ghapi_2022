{
 "cells": [
  {
   "cell_type": "markdown",
   "metadata": {},
   "source": [
    "Copyright 2022 VMware, Inc. \n",
    "\n",
    "SPDX-License-Identifier: BSD-2-Clause\n",
    "\n",
    "# Rate Limits\n",
    "\n",
    "[Rate limits](https://docs.github.com/en/rest/overview/resources-in-the-rest-api#rate-limiting) when you are authenticated are per user account (not token) and are limited to 5000 per hour. If you are not authenitcated, you only get 60 requests per hour (and maybe less if other people in your location are also using the API, since it uses IP Address). This is why we are using a personal access token to authenticate with GitHub.\n",
    "\n",
    "When you get data, always save it into a variable to avoid making extra calls to the API to preserve your rate limit. "
   ]
  },
  {
   "cell_type": "code",
   "execution_count": 1,
   "metadata": {},
   "outputs": [],
   "source": [
    "# Setup: read personal access token from gh_key and create GitHub Instance\n",
    "# You'll need to do this in each notebook\n",
    "\n",
    "# Import PyGithub library\n",
    "from github import Github\n",
    "\n",
    "# Open your gh_key file and read the personal access token into a variable\n",
    "with open('gh_key', 'r') as kf:\n",
    "    key = kf.readline().rstrip() # remove newline & trailing whitespace\n",
    "\n",
    "# Use your personal access token to create a GitHub instance\n",
    "g = Github(key)"
   ]
  },
  {
   "cell_type": "code",
   "execution_count": 2,
   "metadata": {},
   "outputs": [
    {
     "name": "stdout",
     "output_type": "stream",
     "text": [
      "RateLimit(core=Rate(reset=2022-09-22 15:09:35, remaining=4985, limit=5000))\n"
     ]
    }
   ],
   "source": [
    "# Starting rate limit\n",
    "print(g.get_rate_limit())"
   ]
  },
  {
   "cell_type": "code",
   "execution_count": 3,
   "metadata": {},
   "outputs": [
    {
     "name": "stdout",
     "output_type": "stream",
     "text": [
      "RateLimit(core=Rate(reset=2022-09-22 15:09:35, remaining=4984, limit=5000))\n"
     ]
    }
   ],
   "source": [
    "# Rate limit after making 1 request\n",
    "user = g.get_user(\"caabernathy\")\n",
    "print(g.get_rate_limit())"
   ]
  },
  {
   "cell_type": "code",
   "execution_count": 4,
   "metadata": {},
   "outputs": [
    {
     "name": "stdout",
     "output_type": "stream",
     "text": [
      "Christine Abernathy\n",
      "abernathyca\n",
      "F5 Networks\n",
      "RateLimit(core=Rate(reset=2022-09-22 15:09:35, remaining=4984, limit=5000))\n"
     ]
    }
   ],
   "source": [
    "# Using the variable above to avoid making extra API requests - rate limit stays same\n",
    "# even while getting multiple pieces of data\n",
    "print(user.name)\n",
    "print(user.twitter_username)\n",
    "print(user.company)\n",
    "print(g.get_rate_limit())"
   ]
  },
  {
   "cell_type": "code",
   "execution_count": 5,
   "metadata": {},
   "outputs": [
    {
     "name": "stdout",
     "output_type": "stream",
     "text": [
      "NamedUser(login=\"caabernathy\")\n",
      "RateLimit(core=Rate(reset=2022-09-22 15:09:35, remaining=4983, limit=5000))\n"
     ]
    }
   ],
   "source": [
    "# If you make the same request multiple times without saving into a variable, \n",
    "# you continue to use more of your rate limit\n",
    "\n",
    "print(g.get_user(\"caabernathy\"))\n",
    "print(g.get_rate_limit())"
   ]
  },
  {
   "cell_type": "markdown",
   "metadata": {},
   "source": [
    "## Ethical Use Reminder\n",
    "\n",
    "Please adhere to the GitHub Acceptable Use Policies:\n",
    "https://docs.github.com/en/site-policy/acceptable-use-policies/github-acceptable-use-policies"
   ]
  },
  {
   "cell_type": "markdown",
   "metadata": {},
   "source": [
    "## Key Takeaways\n",
    "\n",
    "* Think about how you are making requests.\n",
    "* Check your rate limit remainder to verify that you aren't making more requests than you think.\n",
    "* Use variables to store GitHub requests and re-use those variables to avoid exceeding your rate limit."
   ]
  }
 ],
 "metadata": {
  "kernelspec": {
   "display_name": "Python 3",
   "language": "python",
   "name": "python3"
  },
  "language_info": {
   "codemirror_mode": {
    "name": "ipython",
    "version": 3
   },
   "file_extension": ".py",
   "mimetype": "text/x-python",
   "name": "python",
   "nbconvert_exporter": "python",
   "pygments_lexer": "ipython3",
   "version": "3.8.5"
  }
 },
 "nbformat": 4,
 "nbformat_minor": 4
}
