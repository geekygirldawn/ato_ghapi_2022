{
 "cells": [
  {
   "cell_type": "markdown",
   "metadata": {},
   "source": [
    "Copyright 2022 VMware, Inc. \n",
    "\n",
    "SPDX-License-Identifier: BSD-2-Clause\n",
    "\n",
    "# Rate Limits\n",
    "\n",
    "[Rate limits](https://docs.github.com/en/rest/rate-limit) are per user account (not token) and are limited to 5000 per hour. When you get data, always save it into a variable to avoid making extra calls to the API to preserve your rate limit. "
   ]
  },
  {
   "cell_type": "code",
   "execution_count": 1,
   "metadata": {},
   "outputs": [],
   "source": [
    "# Setup\n",
    "from github import Github\n",
    "\n",
    "with open('gh_key', 'r') as kf:\n",
    "    key = kf.readline().rstrip() # remove newline & trailing whitespace\n",
    "\n",
    "g = Github(key)"
   ]
  },
  {
   "cell_type": "code",
   "execution_count": 2,
   "metadata": {},
   "outputs": [
    {
     "name": "stdout",
     "output_type": "stream",
     "text": [
      "RateLimit(core=Rate(reset=2022-09-22 10:51:52, remaining=5000, limit=5000))\n"
     ]
    }
   ],
   "source": [
    "# Starting rate limit\n",
    "print(g.get_rate_limit())"
   ]
  },
  {
   "cell_type": "code",
   "execution_count": 3,
   "metadata": {},
   "outputs": [
    {
     "name": "stdout",
     "output_type": "stream",
     "text": [
      "RateLimit(core=Rate(reset=2022-09-22 10:52:00, remaining=4999, limit=5000))\n"
     ]
    }
   ],
   "source": [
    "# Rate limit after making 1 request\n",
    "user = g.get_user(\"caabernathy\")\n",
    "print(g.get_rate_limit())"
   ]
  },
  {
   "cell_type": "code",
   "execution_count": 4,
   "metadata": {},
   "outputs": [
    {
     "name": "stdout",
     "output_type": "stream",
     "text": [
      "Christine Abernathy\n",
      "abernathyca\n",
      "F5 Networks\n",
      "RateLimit(core=Rate(reset=2022-09-22 10:52:00, remaining=4999, limit=5000))\n"
     ]
    }
   ],
   "source": [
    "# Using the variable above to avoid making extra API requests - rate limit stays same\n",
    "# even while getting multiple pieces of data\n",
    "print(user.name)\n",
    "print(user.twitter_username)\n",
    "print(user.company)\n",
    "print(g.get_rate_limit())"
   ]
  },
  {
   "cell_type": "code",
   "execution_count": 5,
   "metadata": {},
   "outputs": [
    {
     "name": "stdout",
     "output_type": "stream",
     "text": [
      "NamedUser(login=\"caabernathy\")\n",
      "RateLimit(core=Rate(reset=2022-09-22 10:52:00, remaining=4998, limit=5000))\n"
     ]
    }
   ],
   "source": [
    "# If you make the same request multiple times without saving into a variable, \n",
    "# you continue to use more of your rate limit\n",
    "\n",
    "print(g.get_user(\"caabernathy\"))\n",
    "print(g.get_rate_limit())"
   ]
  },
  {
   "cell_type": "markdown",
   "metadata": {},
   "source": [
    "## Ethical Use Reminder\n",
    "\n",
    "Please adhere to the GitHub Acceptable Use Policies:\n",
    "https://docs.github.com/en/site-policy/acceptable-use-policies/github-acceptable-use-policies"
   ]
  },
  {
   "cell_type": "markdown",
   "metadata": {},
   "source": [
    "## Key Takeaways\n",
    "\n",
    "* Think about how you are making requests.\n",
    "* Check your rate limit remainder to verify that you aren't making more requests than you think.\n",
    "* Use variables to store GitHub requests and re-use those variables to avoid exceeding your rate limit."
   ]
  }
 ],
 "metadata": {
  "kernelspec": {
   "display_name": "Python 3",
   "language": "python",
   "name": "python3"
  },
  "language_info": {
   "codemirror_mode": {
    "name": "ipython",
    "version": 3
   },
   "file_extension": ".py",
   "mimetype": "text/x-python",
   "name": "python",
   "nbconvert_exporter": "python",
   "pygments_lexer": "ipython3",
   "version": "3.8.5"
  }
 },
 "nbformat": 4,
 "nbformat_minor": 4
}
