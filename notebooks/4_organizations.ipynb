{
 "cells": [
  {
   "cell_type": "markdown",
   "metadata": {},
   "source": [
    "Copyright 2022 VMware, Inc. \n",
    "\n",
    "SPDX-License-Identifier: BSD-2-Clause\n",
    "\n",
    "# Gathering Data about GitHub Organizations (REST API)\n",
    "\n",
    "Demo: getting data about organizations (description, creation date, …)\n",
    "\n",
    "Learn More:\n",
    "\n",
    "* [PyGithub organization documentation](https://pygithub.readthedocs.io/en/latest/github_objects/Organization.html)\n",
    "* [GitHub REST API documentation for orgs](https://docs.github.com/en/rest/orgs/orgs)"
   ]
  },
  {
   "cell_type": "code",
   "execution_count": null,
   "metadata": {},
   "outputs": [],
   "source": [
    "# Setup: read personal access token from gh_key and create GitHub Instance\n",
    "# You'll need to do this in each notebook\n",
    "\n",
    "# Import PyGithub library\n",
    "from github import Github\n",
    "\n",
    "# Open your gh_key file and read the personal access token into a variable\n",
    "with open('gh_key', 'r') as kf:\n",
    "    key = kf.readline().rstrip() # remove newline & trailing whitespace\n",
    "\n",
    "# Use your personal access token to create a GitHub instance\n",
    "g = Github(key)"
   ]
  },
  {
   "cell_type": "code",
   "execution_count": null,
   "metadata": {},
   "outputs": [],
   "source": [
    "# Get details about an organization\n",
    "rh = g.get_organization(\"RedHatOfficial\")\n",
    "print(rh.name)\n",
    "print(rh.description)\n",
    "print(rh.created_at)"
   ]
  },
  {
   "cell_type": "code",
   "execution_count": null,
   "metadata": {},
   "outputs": [],
   "source": [
    "# Show other fields here (blog)\n",
    "\n"
   ]
  },
  {
   "cell_type": "markdown",
   "metadata": {},
   "source": [
    "## Get repos from an organization"
   ]
  },
  {
   "cell_type": "code",
   "execution_count": null,
   "metadata": {},
   "outputs": [],
   "source": [
    "# Get a GitHub object for the GH org as did above\n",
    "lfph = g.get_organization(\"lfph\")\n",
    "print(lfph.name)\n",
    "\n",
    "# Get the repos for that GH org\n",
    "lfph_repos = lfph.get_repos()"
   ]
  },
  {
   "cell_type": "code",
   "execution_count": null,
   "metadata": {},
   "outputs": [],
   "source": [
    "# You can also do this in one step\n",
    "lfph_repos = g.get_organization(\"lfph\").get_repos()"
   ]
  },
  {
   "cell_type": "code",
   "execution_count": null,
   "metadata": {},
   "outputs": [],
   "source": [
    "# As expected, this is another paginated list object\n",
    "print(lfph_repos)"
   ]
  },
  {
   "cell_type": "code",
   "execution_count": null,
   "metadata": {},
   "outputs": [],
   "source": [
    "# Need to loop through the results of a paginated list\n",
    "for repo in lfph_repos:\n",
    "    print(repo.name)"
   ]
  },
  {
   "cell_type": "markdown",
   "metadata": {},
   "source": [
    "## Ethical Use Reminder\n",
    "\n",
    "Please adhere to the GitHub Acceptable Use Policies:\n",
    "https://docs.github.com/en/site-policy/acceptable-use-policies/github-acceptable-use-policies"
   ]
  },
  {
   "cell_type": "markdown",
   "metadata": {},
   "source": []
  }
 ],
 "metadata": {
  "kernelspec": {
   "display_name": "Python 3",
   "language": "python",
   "name": "python3"
  },
  "language_info": {
   "codemirror_mode": {
    "name": "ipython",
    "version": 3
   },
   "file_extension": ".py",
   "mimetype": "text/x-python",
   "name": "python",
   "nbconvert_exporter": "python",
   "pygments_lexer": "ipython3",
   "version": "3.8.5"
  }
 },
 "nbformat": 4,
 "nbformat_minor": 4
}
