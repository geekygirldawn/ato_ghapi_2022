{
 "cells": [
  {
   "cell_type": "markdown",
   "metadata": {},
   "source": [
    "Copyright 2022 VMware, Inc. \n",
    "\n",
    "SPDX-License-Identifier: BSD-2-Clause\n",
    "\n",
    "# Gathering Data about Users (REST API)\n",
    "    \n",
    "Demo: gathering data about users (employer, email, orgs, bio, type, …)\n",
    "\n",
    "Learn more, including all of the different fields that you can access for any user:\n",
    "\n",
    "* [PyGithub Named User](https://pygithub.readthedocs.io/en/latest/github_objects/NamedUser.html?highlight=nameduser)\n",
    "* [GitHub API User Docs](https://docs.github.com/en/rest/users/users)"
   ]
  },
  {
   "cell_type": "code",
   "execution_count": null,
   "metadata": {},
   "outputs": [],
   "source": [
    "# Setup: read personal access token from gh_key and create GitHub Instance\n",
    "# You'll need to do this in each notebook\n",
    "\n",
    "# Import PyGithub library\n",
    "from github import Github\n",
    "\n",
    "# Open your gh_key file and read the personal access token into a variable\n",
    "with open('gh_key', 'r') as kf:\n",
    "    key = kf.readline().rstrip() # remove newline & trailing whitespace\n",
    "\n",
    "# Use your personal access token to create a GitHub instance\n",
    "g = Github(key)"
   ]
  },
  {
   "cell_type": "code",
   "execution_count": null,
   "metadata": {},
   "outputs": [],
   "source": [
    "# Create GitHub object\n",
    "kh = g.get_user(\"kelseyhightower\")"
   ]
  },
  {
   "cell_type": "code",
   "execution_count": null,
   "metadata": {},
   "outputs": [],
   "source": [
    "# Print some basic info about the user\n",
    "print(kh.name)\n",
    "print(kh.twitter_username)"
   ]
  },
  {
   "cell_type": "code",
   "execution_count": null,
   "metadata": {},
   "outputs": [],
   "source": [
    "# Tab to find additional fields\n",
    "\n"
   ]
  },
  {
   "cell_type": "markdown",
   "metadata": {},
   "source": [
    "## Authenticated User\n",
    "\n",
    "If no username is specified, it defaults to the owner of the personal access token ... aka You!\n",
    "\n",
    "[Learn more](https://pygithub.readthedocs.io/en/latest/github_objects/NamedUser.html?highlight=nameduser) in the PyGithub documentation."
   ]
  },
  {
   "cell_type": "code",
   "execution_count": null,
   "metadata": {},
   "outputs": [],
   "source": [
    "# User Object - again any user fields can be accessed.\n",
    "me = g.get_user()\n",
    "print(me.login, me.name, me.bio)"
   ]
  },
  {
   "cell_type": "markdown",
   "metadata": {},
   "source": [
    "## Advanced: Paginated Lists\n",
    "\n",
    "Some API calls return paginated lists. \n",
    "\n",
    "For example:\n",
    "get_followers() Return type: github.PaginatedList.PaginatedList of github.NamedUser.NamedUser\n",
    "\n",
    "The good news is that PyGithub handles the pagination, but to use the output, you need to loop through those results."
   ]
  },
  {
   "cell_type": "code",
   "execution_count": null,
   "metadata": {},
   "outputs": [],
   "source": [
    "mg = g.get_user(\"germonprez\")\n",
    "\n",
    "# This isn't very useful.\n",
    "print(mg.get_followers)"
   ]
  },
  {
   "cell_type": "code",
   "execution_count": null,
   "metadata": {},
   "outputs": [],
   "source": [
    "# Because get_followers() returns a paginated list of type NamedUser, \n",
    "# you can access any user field during the loop.\n",
    "# Note: show a few more options here.\n",
    "\n",
    "for user in mg.get_followers():\n",
    "    print(user.login)"
   ]
  },
  {
   "cell_type": "markdown",
   "metadata": {},
   "source": [
    "## Ethical Use Reminder\n",
    "\n",
    "Please adhere to the GitHub Acceptable Use Policies:\n",
    "https://docs.github.com/en/site-policy/acceptable-use-policies/github-acceptable-use-policies"
   ]
  },
  {
   "cell_type": "markdown",
   "metadata": {},
   "source": [
    "## Key Takeaways\n",
    "\n",
    "* Use tab to get a list of available fields for more information.\n",
    "* Any \"User\" (\"NamedUser\") fields are available for any user object regardless of how you access it (user, followers, etc.)\n",
    "* Some API calls return paginated results that must be looped through to access individual elements."
   ]
  },
  {
   "cell_type": "code",
   "execution_count": null,
   "metadata": {},
   "outputs": [],
   "source": []
  }
 ],
 "metadata": {
  "kernelspec": {
   "display_name": "Python 3",
   "language": "python",
   "name": "python3"
  },
  "language_info": {
   "codemirror_mode": {
    "name": "ipython",
    "version": 3
   },
   "file_extension": ".py",
   "mimetype": "text/x-python",
   "name": "python",
   "nbconvert_exporter": "python",
   "pygments_lexer": "ipython3",
   "version": "3.8.5"
  }
 },
 "nbformat": 4,
 "nbformat_minor": 4
}
