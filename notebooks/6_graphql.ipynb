{
 "cells": [
  {
   "cell_type": "markdown",
   "metadata": {},
   "source": [
    "Copyright 2022 VMware, Inc. \n",
    "\n",
    "SPDX-License-Identifier: BSD-2-Clause\n",
    "\n",
    "# Quick Intro to the GraphQL API\n",
    "\n",
    "Pros and cons of using the REST API and the GraphQL API with a simple GraphQL demo. I'm hoping this is enough to get you interested in learning more about the GraphQL API, but this is a super quick tour that will not show you what you need to actually use this API. It has a steeper learning curve and will take more time than what we have to really make it useful for you.\n",
    "\n",
    "REST API:\n",
    "* Pro: Easy to use\n",
    "* Con: Slow\n",
    "* Con: More frequently hit rate limits\n",
    "\n",
    "GraphQL API:\n",
    "* Pro: Gather more data without hitting rate limits\n",
    "* Pro: Faster\n",
    "* Con: Steeper learning curve\n",
    "\n",
    "[My example](https://github.com/geekygirldawn/project-api-metrics/tree/main/scripts): My repo activity script using the REST API took hours to run across 60+ GitHub orgs, but ran in less than 15 minutes when converted to GraphQL. I learned enough about GraphQL in an afternoon to convert the script from REST to the GraphQL API, so while it has a steeper learning curve, it's worth investing some time in it.\n",
    "\n",
    "**Learn More**\n",
    "* [GitHub GraphQL API docs](https://docs.github.com/en/graphql)"
   ]
  },
  {
   "cell_type": "markdown",
   "metadata": {},
   "source": [
    "## Very Helpful Tool\n",
    "\n",
    "[Install GraphiQL](https://github.com/skevy/graphiql-app) to make it easier to run and test your queries."
   ]
  },
  {
   "cell_type": "markdown",
   "metadata": {},
   "source": [
    "## Example Queries\n",
    "\n",
    "I'll demo these using [GraphiQL](https://github.com/skevy/graphiql-app).\n",
    "\n",
    "**Easy queries for user, org, and repo**\n",
    "\n",
    "```\n",
    "query user{\n",
    "  user(login: \"sdras\") {\n",
    "      name\n",
    "    \tcompany\n",
    "      bio\n",
    "  }\n",
    "}\n",
    "\n",
    "query org{\n",
    "  organization(login: \"theheraldproject\"){\n",
    "    description\n",
    "    websiteUrl\n",
    "  }\n",
    "}\n",
    "\n",
    "query repo{\n",
    "  repository(owner: \"ossf\", name: \"scorecard\") {\n",
    "    name\n",
    "    description\n",
    "    forkCount\n",
    "    stargazerCount\n",
    "  }\n",
    "}\n",
    "```\n",
    "\n",
    "**You can also combine a lot of different things into a single query**\n",
    "\n",
    "```\n",
    "query org2{\n",
    "  organization(login: \"ossf\"){\n",
    "    description\n",
    "    websiteUrl\n",
    "    repositories(first: 10){\n",
    "      nodes{\n",
    "        name\n",
    "      }\n",
    "    }\n",
    "    membersWithRole(first: 10){\n",
    "      nodes{\n",
    "        name\n",
    "      }\n",
    "    }\n",
    "  }\n",
    "}\n",
    "```\n",
    "\n",
    "More queries and examples can be found in my [project-api-metrics](https://github.com/geekygirldawn/project-api-metrics) repo."
   ]
  },
  {
   "cell_type": "markdown",
   "metadata": {},
   "source": [
    "## Ethical Use Reminder\n",
    "\n",
    "Please adhere to the GitHub Acceptable Use Policies:\n",
    "https://docs.github.com/en/site-policy/acceptable-use-policies/github-acceptable-use-policies"
   ]
  }
 ],
 "metadata": {
  "kernelspec": {
   "display_name": "Python 3",
   "language": "python",
   "name": "python3"
  },
  "language_info": {
   "codemirror_mode": {
    "name": "ipython",
    "version": 3
   },
   "file_extension": ".py",
   "mimetype": "text/x-python",
   "name": "python",
   "nbconvert_exporter": "python",
   "pygments_lexer": "ipython3",
   "version": "3.8.5"
  }
 },
 "nbformat": 4,
 "nbformat_minor": 4
}
